{
 "cells": [
  {
   "cell_type": "code",
   "execution_count": 2,
   "metadata": {},
   "outputs": [
    {
     "name": "stdout",
     "output_type": "stream",
     "text": [
      "    color  diameter  label\n",
      "0   green         3  Mango\n",
      "1  yellow         3  Mango\n",
      "2     red         1  Grape\n",
      "3     red         1  Grape\n",
      "4  yellow         3  Lemon\n"
     ]
    }
   ],
   "source": [
    "import pandas as pd\n",
    "import matplotlib.pyplot as plt\n",
    "import seaborn as sns\n",
    "\n",
    "df=pd.read_csv('F:/ml/dataset.csv')\n",
    "print(df.head())\n",
    "\n",
    "X=df.iloc[:,0:2].values\n",
    "y=df.iloc[:,2].values\n",
    "\n",
    "#print(X)\n",
    "#print(y)"
   ]
  },
  {
   "cell_type": "code",
   "execution_count": 3,
   "metadata": {},
   "outputs": [
    {
     "name": "stdout",
     "output_type": "stream",
     "text": [
      "[[0 3]\n",
      " [2 3]\n",
      " [1 1]\n",
      " [1 1]\n",
      " [2 3]]\n",
      "[2 2 0 0 1]\n",
      "[[2]\n",
      " [2]\n",
      " [0]\n",
      " [0]\n",
      " [1]]\n"
     ]
    }
   ],
   "source": [
    "from sklearn.preprocessing import LabelEncoder\n",
    "X_labelencoder = LabelEncoder()\n",
    "X[:, 0] = X_labelencoder.fit_transform(X[:, 0])\n",
    "print (X)\n",
    "\n",
    "# for y\n",
    "y_labelencoder = LabelEncoder ()\n",
    "y = y_labelencoder.fit_transform (y)\n",
    "print (y)\n",
    "\n",
    "y=y.reshape(-1,1)\n",
    "print(y)\n"
   ]
  },
  {
   "cell_type": "code",
   "execution_count": 4,
   "metadata": {},
   "outputs": [
    {
     "data": {
      "text/plain": [
       "'\\ncriterion: It defines the function to measure the impurity. Sklearn supports “gini” criteria for Gini Index\\n & “entropy” for Information Gain. By default, it takes “gini” value.\\n \\nmax_depth: The max_depth parameter denotes maximum depth of the tree.\\n'"
      ]
     },
     "execution_count": 4,
     "metadata": {},
     "output_type": "execute_result"
    }
   ],
   "source": [
    "from sklearn.model_selection import train_test_split\n",
    "\n",
    "X_train, X_test, y_train, y_test = train_test_split(X, y, test_size=0.2, random_state=2)\n"
   ]
  },
  {
   "cell_type": "code",
   "execution_count": 5,
   "metadata": {},
   "outputs": [
    {
     "data": {
      "text/plain": [
       "array([0])"
      ]
     },
     "execution_count": 5,
     "metadata": {},
     "output_type": "execute_result"
    }
   ],
   "source": [
    "from sklearn.tree import DecisionTreeClassifier\n",
    "#decision_tree = DecisionTreeClassifier(criterion = \"gini\", max_depth = 3,random_state = 100)\n",
    "#decision_tree.fit(X_train, y_train)\n",
    "decision_tree = DecisionTreeClassifier(criterion = \"entropy\", random_state = 100,max_depth=2)\n",
    "decision_tree.fit(X_train, y_train)\n",
    "predictValues =decision_tree.predict(X_test)\n",
    "\n",
    "predictValues"
   ]
  },
  {
   "cell_type": "code",
   "execution_count": 6,
   "metadata": {},
   "outputs": [
    {
     "name": "stdout",
     "output_type": "stream",
     "text": [
      "RMSE is:-\n",
      "0.0\n"
     ]
    }
   ],
   "source": [
    "from sklearn import metrics\n",
    "import numpy as np\n",
    "from sklearn.metrics import mean_squared_error\n",
    "from math import sqrt\n",
    "print(\"RMSE is:-\")\n",
    "print(np.sqrt(metrics.mean_squared_error(y_test, predictValues)))\n"
   ]
  },
  {
   "cell_type": "code",
   "execution_count": 8,
   "metadata": {},
   "outputs": [
    {
     "data": {
      "image/svg+xml": [
       "<svg xmlns=\"http://www.w3.org/2000/svg\" xmlns:xlink=\"http://www.w3.org/1999/xlink\" width=\"319pt\" height=\"269pt\" viewBox=\"0.00 0.00 319.00 269.00\">\n",
       "<g id=\"graph0\" class=\"graph\" transform=\"scale(1 1) rotate(0) translate(4 265)\">\n",
       "<title>Tree</title>\n",
       "<polygon fill=\"white\" stroke=\"none\" points=\"-4,4 -4,-265 315,-265 315,4 -4,4\"/>\n",
       "<!-- 0 -->\n",
       "<g id=\"node1\" class=\"node\"><title>0</title>\n",
       "<path fill=\"#d5bdf6\" stroke=\"black\" d=\"M168.5,-261C168.5,-261 76.5,-261 76.5,-261 70.5,-261 64.5,-255 64.5,-249 64.5,-249 64.5,-205 64.5,-205 64.5,-199 70.5,-193 76.5,-193 76.5,-193 168.5,-193 168.5,-193 174.5,-193 180.5,-199 180.5,-205 180.5,-205 180.5,-249 180.5,-249 180.5,-255 174.5,-261 168.5,-261\"/>\n",
       "<text text-anchor=\"middle\" x=\"122.5\" y=\"-245.8\" font-family=\"Helvetica,sans-Serif\" font-size=\"14.00\">diameter &lt;= 2.0</text>\n",
       "<text text-anchor=\"middle\" x=\"122.5\" y=\"-230.8\" font-family=\"Helvetica,sans-Serif\" font-size=\"14.00\">entropy = 1.5</text>\n",
       "<text text-anchor=\"middle\" x=\"122.5\" y=\"-215.8\" font-family=\"Helvetica,sans-Serif\" font-size=\"14.00\">samples = 4</text>\n",
       "<text text-anchor=\"middle\" x=\"122.5\" y=\"-200.8\" font-family=\"Helvetica,sans-Serif\" font-size=\"14.00\">value = [1, 1, 2]</text>\n",
       "</g>\n",
       "<!-- 1 -->\n",
       "<g id=\"node2\" class=\"node\"><title>1</title>\n",
       "<path fill=\"#e58139\" stroke=\"black\" d=\"M101,-149.5C101,-149.5 12,-149.5 12,-149.5 6,-149.5 0,-143.5 0,-137.5 0,-137.5 0,-108.5 0,-108.5 0,-102.5 6,-96.5 12,-96.5 12,-96.5 101,-96.5 101,-96.5 107,-96.5 113,-102.5 113,-108.5 113,-108.5 113,-137.5 113,-137.5 113,-143.5 107,-149.5 101,-149.5\"/>\n",
       "<text text-anchor=\"middle\" x=\"56.5\" y=\"-134.3\" font-family=\"Helvetica,sans-Serif\" font-size=\"14.00\">entropy = 0.0</text>\n",
       "<text text-anchor=\"middle\" x=\"56.5\" y=\"-119.3\" font-family=\"Helvetica,sans-Serif\" font-size=\"14.00\">samples = 1</text>\n",
       "<text text-anchor=\"middle\" x=\"56.5\" y=\"-104.3\" font-family=\"Helvetica,sans-Serif\" font-size=\"14.00\">value = [1, 0, 0]</text>\n",
       "</g>\n",
       "<!-- 0&#45;&gt;1 -->\n",
       "<g id=\"edge1\" class=\"edge\"><title>0-&gt;1</title>\n",
       "<path fill=\"none\" stroke=\"black\" d=\"M101.072,-192.884C93.8843,-181.776 85.8583,-169.372 78.619,-158.184\"/>\n",
       "<polygon fill=\"black\" stroke=\"black\" points=\"81.384,-156.014 73.0129,-149.52 75.507,-159.817 81.384,-156.014\"/>\n",
       "<text text-anchor=\"middle\" x=\"67.7747\" y=\"-170.265\" font-family=\"Helvetica,sans-Serif\" font-size=\"14.00\">True</text>\n",
       "</g>\n",
       "<!-- 2 -->\n",
       "<g id=\"node3\" class=\"node\"><title>2</title>\n",
       "<path fill=\"#c09cf2\" stroke=\"black\" d=\"M235.5,-157C235.5,-157 143.5,-157 143.5,-157 137.5,-157 131.5,-151 131.5,-145 131.5,-145 131.5,-101 131.5,-101 131.5,-95 137.5,-89 143.5,-89 143.5,-89 235.5,-89 235.5,-89 241.5,-89 247.5,-95 247.5,-101 247.5,-101 247.5,-145 247.5,-145 247.5,-151 241.5,-157 235.5,-157\"/>\n",
       "<text text-anchor=\"middle\" x=\"189.5\" y=\"-141.8\" font-family=\"Helvetica,sans-Serif\" font-size=\"14.00\">color &lt;= 1.0</text>\n",
       "<text text-anchor=\"middle\" x=\"189.5\" y=\"-126.8\" font-family=\"Helvetica,sans-Serif\" font-size=\"14.00\">entropy = 0.918</text>\n",
       "<text text-anchor=\"middle\" x=\"189.5\" y=\"-111.8\" font-family=\"Helvetica,sans-Serif\" font-size=\"14.00\">samples = 3</text>\n",
       "<text text-anchor=\"middle\" x=\"189.5\" y=\"-96.8\" font-family=\"Helvetica,sans-Serif\" font-size=\"14.00\">value = [0, 1, 2]</text>\n",
       "</g>\n",
       "<!-- 0&#45;&gt;2 -->\n",
       "<g id=\"edge2\" class=\"edge\"><title>0-&gt;2</title>\n",
       "<path fill=\"none\" stroke=\"black\" d=\"M144.253,-192.884C149.928,-184.243 156.119,-174.819 162.048,-165.793\"/>\n",
       "<polygon fill=\"black\" stroke=\"black\" points=\"165.062,-167.579 167.627,-157.299 159.211,-163.736 165.062,-167.579\"/>\n",
       "<text text-anchor=\"middle\" x=\"172.697\" y=\"-178.08\" font-family=\"Helvetica,sans-Serif\" font-size=\"14.00\">False</text>\n",
       "</g>\n",
       "<!-- 3 -->\n",
       "<g id=\"node4\" class=\"node\"><title>3</title>\n",
       "<path fill=\"#8139e5\" stroke=\"black\" d=\"M168,-53C168,-53 79,-53 79,-53 73,-53 67,-47 67,-41 67,-41 67,-12 67,-12 67,-6 73,-0 79,-0 79,-0 168,-0 168,-0 174,-0 180,-6 180,-12 180,-12 180,-41 180,-41 180,-47 174,-53 168,-53\"/>\n",
       "<text text-anchor=\"middle\" x=\"123.5\" y=\"-37.8\" font-family=\"Helvetica,sans-Serif\" font-size=\"14.00\">entropy = 0.0</text>\n",
       "<text text-anchor=\"middle\" x=\"123.5\" y=\"-22.8\" font-family=\"Helvetica,sans-Serif\" font-size=\"14.00\">samples = 1</text>\n",
       "<text text-anchor=\"middle\" x=\"123.5\" y=\"-7.8\" font-family=\"Helvetica,sans-Serif\" font-size=\"14.00\">value = [0, 0, 1]</text>\n",
       "</g>\n",
       "<!-- 2&#45;&gt;3 -->\n",
       "<g id=\"edge3\" class=\"edge\"><title>2-&gt;3</title>\n",
       "<path fill=\"none\" stroke=\"black\" d=\"M166.416,-88.9485C160.219,-80.0749 153.507,-70.4648 147.273,-61.5388\"/>\n",
       "<polygon fill=\"black\" stroke=\"black\" points=\"150.07,-59.4311 141.475,-53.2367 144.331,-63.4392 150.07,-59.4311\"/>\n",
       "</g>\n",
       "<!-- 4 -->\n",
       "<g id=\"node5\" class=\"node\"><title>4</title>\n",
       "<path fill=\"#ffffff\" stroke=\"black\" d=\"M299,-53C299,-53 210,-53 210,-53 204,-53 198,-47 198,-41 198,-41 198,-12 198,-12 198,-6 204,-0 210,-0 210,-0 299,-0 299,-0 305,-0 311,-6 311,-12 311,-12 311,-41 311,-41 311,-47 305,-53 299,-53\"/>\n",
       "<text text-anchor=\"middle\" x=\"254.5\" y=\"-37.8\" font-family=\"Helvetica,sans-Serif\" font-size=\"14.00\">entropy = 1.0</text>\n",
       "<text text-anchor=\"middle\" x=\"254.5\" y=\"-22.8\" font-family=\"Helvetica,sans-Serif\" font-size=\"14.00\">samples = 2</text>\n",
       "<text text-anchor=\"middle\" x=\"254.5\" y=\"-7.8\" font-family=\"Helvetica,sans-Serif\" font-size=\"14.00\">value = [0, 1, 1]</text>\n",
       "</g>\n",
       "<!-- 2&#45;&gt;4 -->\n",
       "<g id=\"edge4\" class=\"edge\"><title>2-&gt;4</title>\n",
       "<path fill=\"none\" stroke=\"black\" d=\"M212.234,-88.9485C218.337,-80.0749 224.947,-70.4648 231.087,-61.5388\"/>\n",
       "<polygon fill=\"black\" stroke=\"black\" points=\"234.014,-63.4594 236.798,-53.2367 228.247,-59.4924 234.014,-63.4594\"/>\n",
       "</g>\n",
       "</g>\n",
       "</svg>"
      ],
      "text/plain": [
       "<IPython.core.display.SVG object>"
      ]
     },
     "metadata": {},
     "output_type": "display_data"
    }
   ],
   "source": [
    "data_feature_names = [ 'color', 'diameter']\n",
    "\n",
    "from sklearn.tree import export_graphviz\n",
    "from sklearn import tree\n",
    "from graphviz import Source\n",
    "from IPython.display import SVG\n",
    "from IPython.display import display\n",
    "\n",
    "graph = Source(tree.export_graphviz(decision_tree, out_file=None\n",
    "   , feature_names=data_feature_names\n",
    "   , filled = True,rounded=True))\n",
    "\n",
    "\n",
    "display(SVG(graph.pipe(format='svg')))"
   ]
  },
  {
   "cell_type": "code",
   "execution_count": null,
   "metadata": {},
   "outputs": [],
   "source": []
  }
 ],
 "metadata": {
  "kernelspec": {
   "display_name": "Python 3",
   "language": "python",
   "name": "python3"
  },
  "language_info": {
   "codemirror_mode": {
    "name": "ipython",
    "version": 3
   },
   "file_extension": ".py",
   "mimetype": "text/x-python",
   "name": "python",
   "nbconvert_exporter": "python",
   "pygments_lexer": "ipython3",
   "version": "3.8.5"
  }
 },
 "nbformat": 4,
 "nbformat_minor": 2
}
